{
  "nbformat": 4,
  "nbformat_minor": 0,
  "metadata": {
    "colab": {
      "provenance": [],
      "authorship_tag": "ABX9TyNN9cIO01lEdkfcLZttj9Q/",
      "include_colab_link": true
    },
    "kernelspec": {
      "name": "python3",
      "display_name": "Python 3"
    },
    "language_info": {
      "name": "python"
    }
  },
  "cells": [
    {
      "cell_type": "markdown",
      "metadata": {
        "id": "view-in-github",
        "colab_type": "text"
      },
      "source": [
        "<a href=\"https://colab.research.google.com/github/yrevanth/MLProject_Text/blob/master/EDA_Google_App.ipynb\" target=\"_parent\"><img src=\"https://colab.research.google.com/assets/colab-badge.svg\" alt=\"Open In Colab\"/></a>"
      ]
    },
    {
      "cell_type": "code",
      "execution_count": 1,
      "metadata": {
        "id": "qM-qwhLtHIAe"
      },
      "outputs": [],
      "source": [
        "# Libraries to help with reading and manipulating data\n",
        "import numpy as np\n",
        "import pandas as pd\n",
        "\n",
        "# Libraries to help with data visualization\n",
        "import matplotlib.pyplot as plt\n",
        "import seaborn as sns\n",
        "%matplotlib inline"
      ]
    },
    {
      "cell_type": "code",
      "source": [
        "#Mount drive\n",
        "from google.colab import drive\n",
        "drive.mount('/content/drive')"
      ],
      "metadata": {
        "colab": {
          "base_uri": "https://localhost:8080/"
        },
        "id": "PLnLCvEkHPCd",
        "outputId": "ee30d9da-b8df-4f62-ab71-a8f549910a05"
      },
      "execution_count": 2,
      "outputs": [
        {
          "output_type": "stream",
          "name": "stdout",
          "text": [
            "Mounted at /content/drive\n"
          ]
        }
      ]
    },
    {
      "cell_type": "code",
      "source": [
        "#Importing data \n",
        "data = pd.read_csv('/content/drive/MyDrive/UTA_ML/Play_Store_2.csv')"
      ],
      "metadata": {
        "id": "ZKJ7YEaYHPr7"
      },
      "execution_count": 3,
      "outputs": []
    },
    {
      "cell_type": "code",
      "source": [
        "#Getting a sense of what the data looks like\n",
        "data.head()"
      ],
      "metadata": {
        "colab": {
          "base_uri": "https://localhost:8080/",
          "height": 204
        },
        "id": "q41S1AzbHZZP",
        "outputId": "7d152f9b-86d9-41a5-a309-ffac0ae4b85c"
      },
      "execution_count": 5,
      "outputs": [
        {
          "output_type": "execute_result",
          "data": {
            "text/plain": [
              "                     App             Category  Rating   Reviews   Size  \\\n",
              "0            War Dragons               Others     3.9  160604.0  270.0   \n",
              "1  CV-Library Job Search             BUSINESS     4.4       NaN   46.0   \n",
              "2        Surah Al-Waqiah  BOOKS_AND_REFERENCE     NaN    1201.0   29.0   \n",
              "3                     Ay               Others     NaN      11.0   36.0   \n",
              "4                EA Plus               Others     2.5      12.0   12.0   \n",
              "\n",
              "     Installs Paid/Free  Price Content Rating Ad Supported In App Purchases  \\\n",
              "0  10000000.0      Free    0.0       Everyone          Yes              Yes   \n",
              "1    100000.0      Free    0.0       Everyone           No               No   \n",
              "2    100000.0      Free    0.0       Everyone          Yes               No   \n",
              "3      5000.0      Free    0.0           Teen          Yes               No   \n",
              "4      1000.0      Free    0.0       Everyone           No               No   \n",
              "\n",
              "  Editors Choice  \n",
              "0            Yes  \n",
              "1             No  \n",
              "2             No  \n",
              "3             No  \n",
              "4             No  "
            ],
            "text/html": [
              "\n",
              "  <div id=\"df-df8a6920-0890-4416-aeb0-c1761599a71c\">\n",
              "    <div class=\"colab-df-container\">\n",
              "      <div>\n",
              "<style scoped>\n",
              "    .dataframe tbody tr th:only-of-type {\n",
              "        vertical-align: middle;\n",
              "    }\n",
              "\n",
              "    .dataframe tbody tr th {\n",
              "        vertical-align: top;\n",
              "    }\n",
              "\n",
              "    .dataframe thead th {\n",
              "        text-align: right;\n",
              "    }\n",
              "</style>\n",
              "<table border=\"1\" class=\"dataframe\">\n",
              "  <thead>\n",
              "    <tr style=\"text-align: right;\">\n",
              "      <th></th>\n",
              "      <th>App</th>\n",
              "      <th>Category</th>\n",
              "      <th>Rating</th>\n",
              "      <th>Reviews</th>\n",
              "      <th>Size</th>\n",
              "      <th>Installs</th>\n",
              "      <th>Paid/Free</th>\n",
              "      <th>Price</th>\n",
              "      <th>Content Rating</th>\n",
              "      <th>Ad Supported</th>\n",
              "      <th>In App Purchases</th>\n",
              "      <th>Editors Choice</th>\n",
              "    </tr>\n",
              "  </thead>\n",
              "  <tbody>\n",
              "    <tr>\n",
              "      <th>0</th>\n",
              "      <td>War Dragons</td>\n",
              "      <td>Others</td>\n",
              "      <td>3.9</td>\n",
              "      <td>160604.0</td>\n",
              "      <td>270.0</td>\n",
              "      <td>10000000.0</td>\n",
              "      <td>Free</td>\n",
              "      <td>0.0</td>\n",
              "      <td>Everyone</td>\n",
              "      <td>Yes</td>\n",
              "      <td>Yes</td>\n",
              "      <td>Yes</td>\n",
              "    </tr>\n",
              "    <tr>\n",
              "      <th>1</th>\n",
              "      <td>CV-Library Job Search</td>\n",
              "      <td>BUSINESS</td>\n",
              "      <td>4.4</td>\n",
              "      <td>NaN</td>\n",
              "      <td>46.0</td>\n",
              "      <td>100000.0</td>\n",
              "      <td>Free</td>\n",
              "      <td>0.0</td>\n",
              "      <td>Everyone</td>\n",
              "      <td>No</td>\n",
              "      <td>No</td>\n",
              "      <td>No</td>\n",
              "    </tr>\n",
              "    <tr>\n",
              "      <th>2</th>\n",
              "      <td>Surah Al-Waqiah</td>\n",
              "      <td>BOOKS_AND_REFERENCE</td>\n",
              "      <td>NaN</td>\n",
              "      <td>1201.0</td>\n",
              "      <td>29.0</td>\n",
              "      <td>100000.0</td>\n",
              "      <td>Free</td>\n",
              "      <td>0.0</td>\n",
              "      <td>Everyone</td>\n",
              "      <td>Yes</td>\n",
              "      <td>No</td>\n",
              "      <td>No</td>\n",
              "    </tr>\n",
              "    <tr>\n",
              "      <th>3</th>\n",
              "      <td>Ay</td>\n",
              "      <td>Others</td>\n",
              "      <td>NaN</td>\n",
              "      <td>11.0</td>\n",
              "      <td>36.0</td>\n",
              "      <td>5000.0</td>\n",
              "      <td>Free</td>\n",
              "      <td>0.0</td>\n",
              "      <td>Teen</td>\n",
              "      <td>Yes</td>\n",
              "      <td>No</td>\n",
              "      <td>No</td>\n",
              "    </tr>\n",
              "    <tr>\n",
              "      <th>4</th>\n",
              "      <td>EA Plus</td>\n",
              "      <td>Others</td>\n",
              "      <td>2.5</td>\n",
              "      <td>12.0</td>\n",
              "      <td>12.0</td>\n",
              "      <td>1000.0</td>\n",
              "      <td>Free</td>\n",
              "      <td>0.0</td>\n",
              "      <td>Everyone</td>\n",
              "      <td>No</td>\n",
              "      <td>No</td>\n",
              "      <td>No</td>\n",
              "    </tr>\n",
              "  </tbody>\n",
              "</table>\n",
              "</div>\n",
              "      <button class=\"colab-df-convert\" onclick=\"convertToInteractive('df-df8a6920-0890-4416-aeb0-c1761599a71c')\"\n",
              "              title=\"Convert this dataframe to an interactive table.\"\n",
              "              style=\"display:none;\">\n",
              "        \n",
              "  <svg xmlns=\"http://www.w3.org/2000/svg\" height=\"24px\"viewBox=\"0 0 24 24\"\n",
              "       width=\"24px\">\n",
              "    <path d=\"M0 0h24v24H0V0z\" fill=\"none\"/>\n",
              "    <path d=\"M18.56 5.44l.94 2.06.94-2.06 2.06-.94-2.06-.94-.94-2.06-.94 2.06-2.06.94zm-11 1L8.5 8.5l.94-2.06 2.06-.94-2.06-.94L8.5 2.5l-.94 2.06-2.06.94zm10 10l.94 2.06.94-2.06 2.06-.94-2.06-.94-.94-2.06-.94 2.06-2.06.94z\"/><path d=\"M17.41 7.96l-1.37-1.37c-.4-.4-.92-.59-1.43-.59-.52 0-1.04.2-1.43.59L10.3 9.45l-7.72 7.72c-.78.78-.78 2.05 0 2.83L4 21.41c.39.39.9.59 1.41.59.51 0 1.02-.2 1.41-.59l7.78-7.78 2.81-2.81c.8-.78.8-2.07 0-2.86zM5.41 20L4 18.59l7.72-7.72 1.47 1.35L5.41 20z\"/>\n",
              "  </svg>\n",
              "      </button>\n",
              "      \n",
              "  <style>\n",
              "    .colab-df-container {\n",
              "      display:flex;\n",
              "      flex-wrap:wrap;\n",
              "      gap: 12px;\n",
              "    }\n",
              "\n",
              "    .colab-df-convert {\n",
              "      background-color: #E8F0FE;\n",
              "      border: none;\n",
              "      border-radius: 50%;\n",
              "      cursor: pointer;\n",
              "      display: none;\n",
              "      fill: #1967D2;\n",
              "      height: 32px;\n",
              "      padding: 0 0 0 0;\n",
              "      width: 32px;\n",
              "    }\n",
              "\n",
              "    .colab-df-convert:hover {\n",
              "      background-color: #E2EBFA;\n",
              "      box-shadow: 0px 1px 2px rgba(60, 64, 67, 0.3), 0px 1px 3px 1px rgba(60, 64, 67, 0.15);\n",
              "      fill: #174EA6;\n",
              "    }\n",
              "\n",
              "    [theme=dark] .colab-df-convert {\n",
              "      background-color: #3B4455;\n",
              "      fill: #D2E3FC;\n",
              "    }\n",
              "\n",
              "    [theme=dark] .colab-df-convert:hover {\n",
              "      background-color: #434B5C;\n",
              "      box-shadow: 0px 1px 3px 1px rgba(0, 0, 0, 0.15);\n",
              "      filter: drop-shadow(0px 1px 2px rgba(0, 0, 0, 0.3));\n",
              "      fill: #FFFFFF;\n",
              "    }\n",
              "  </style>\n",
              "\n",
              "      <script>\n",
              "        const buttonEl =\n",
              "          document.querySelector('#df-df8a6920-0890-4416-aeb0-c1761599a71c button.colab-df-convert');\n",
              "        buttonEl.style.display =\n",
              "          google.colab.kernel.accessAllowed ? 'block' : 'none';\n",
              "\n",
              "        async function convertToInteractive(key) {\n",
              "          const element = document.querySelector('#df-df8a6920-0890-4416-aeb0-c1761599a71c');\n",
              "          const dataTable =\n",
              "            await google.colab.kernel.invokeFunction('convertToInteractive',\n",
              "                                                     [key], {});\n",
              "          if (!dataTable) return;\n",
              "\n",
              "          const docLinkHtml = 'Like what you see? Visit the ' +\n",
              "            '<a target=\"_blank\" href=https://colab.research.google.com/notebooks/data_table.ipynb>data table notebook</a>'\n",
              "            + ' to learn more about interactive tables.';\n",
              "          element.innerHTML = '';\n",
              "          dataTable['output_type'] = 'display_data';\n",
              "          await google.colab.output.renderOutput(dataTable, element);\n",
              "          const docLink = document.createElement('div');\n",
              "          docLink.innerHTML = docLinkHtml;\n",
              "          element.appendChild(docLink);\n",
              "        }\n",
              "      </script>\n",
              "    </div>\n",
              "  </div>\n",
              "  "
            ]
          },
          "metadata": {},
          "execution_count": 5
        }
      ]
    },
    {
      "cell_type": "code",
      "source": [
        "data.shape"
      ],
      "metadata": {
        "colab": {
          "base_uri": "https://localhost:8080/"
        },
        "id": "dUte7Tx3HauO",
        "outputId": "471586e1-41c9-4bc0-a494-09120ece6f81"
      },
      "execution_count": 6,
      "outputs": [
        {
          "output_type": "execute_result",
          "data": {
            "text/plain": [
              "(4153, 12)"
            ]
          },
          "metadata": {},
          "execution_count": 6
        }
      ]
    },
    {
      "cell_type": "code",
      "source": [
        "#Getting descriptive statistics for all attributes \n",
        "data.describe().T"
      ],
      "metadata": {
        "colab": {
          "base_uri": "https://localhost:8080/",
          "height": 204
        },
        "id": "c9cRzgbxJ-Yg",
        "outputId": "8a8a1429-37e8-4a81-8591-60be942a9fe7"
      },
      "execution_count": 17,
      "outputs": [
        {
          "output_type": "execute_result",
          "data": {
            "text/plain": [
              "           count          mean           std    min      25%       50%  \\\n",
              "Rating    3976.0  4.189487e+00  5.197921e-01  1.000      4.0       4.3   \n",
              "Reviews   4029.0  6.696421e+04  1.074189e+05  1.000    224.0    7461.0   \n",
              "Size      4153.0  8.225441e+01  9.225633e+01  0.011     22.0      42.0   \n",
              "Installs  4153.0  3.232706e+06  5.421343e+06  1.000  10000.0  500000.0   \n",
              "Price     4153.0  5.653407e-01  8.926313e+00  0.000      0.0       0.0   \n",
              "\n",
              "                75%          max  \n",
              "Rating          4.5         5.00  \n",
              "Reviews     78219.0    312204.00  \n",
              "Size           84.0       270.00  \n",
              "Installs  5000000.0  19970000.00  \n",
              "Price           0.0       399.99  "
            ],
            "text/html": [
              "\n",
              "  <div id=\"df-87ab2306-330e-4fa7-9412-65a9fec74f23\">\n",
              "    <div class=\"colab-df-container\">\n",
              "      <div>\n",
              "<style scoped>\n",
              "    .dataframe tbody tr th:only-of-type {\n",
              "        vertical-align: middle;\n",
              "    }\n",
              "\n",
              "    .dataframe tbody tr th {\n",
              "        vertical-align: top;\n",
              "    }\n",
              "\n",
              "    .dataframe thead th {\n",
              "        text-align: right;\n",
              "    }\n",
              "</style>\n",
              "<table border=\"1\" class=\"dataframe\">\n",
              "  <thead>\n",
              "    <tr style=\"text-align: right;\">\n",
              "      <th></th>\n",
              "      <th>count</th>\n",
              "      <th>mean</th>\n",
              "      <th>std</th>\n",
              "      <th>min</th>\n",
              "      <th>25%</th>\n",
              "      <th>50%</th>\n",
              "      <th>75%</th>\n",
              "      <th>max</th>\n",
              "    </tr>\n",
              "  </thead>\n",
              "  <tbody>\n",
              "    <tr>\n",
              "      <th>Rating</th>\n",
              "      <td>3976.0</td>\n",
              "      <td>4.189487e+00</td>\n",
              "      <td>5.197921e-01</td>\n",
              "      <td>1.000</td>\n",
              "      <td>4.0</td>\n",
              "      <td>4.3</td>\n",
              "      <td>4.5</td>\n",
              "      <td>5.00</td>\n",
              "    </tr>\n",
              "    <tr>\n",
              "      <th>Reviews</th>\n",
              "      <td>4029.0</td>\n",
              "      <td>6.696421e+04</td>\n",
              "      <td>1.074189e+05</td>\n",
              "      <td>1.000</td>\n",
              "      <td>224.0</td>\n",
              "      <td>7461.0</td>\n",
              "      <td>78219.0</td>\n",
              "      <td>312204.00</td>\n",
              "    </tr>\n",
              "    <tr>\n",
              "      <th>Size</th>\n",
              "      <td>4153.0</td>\n",
              "      <td>8.225441e+01</td>\n",
              "      <td>9.225633e+01</td>\n",
              "      <td>0.011</td>\n",
              "      <td>22.0</td>\n",
              "      <td>42.0</td>\n",
              "      <td>84.0</td>\n",
              "      <td>270.00</td>\n",
              "    </tr>\n",
              "    <tr>\n",
              "      <th>Installs</th>\n",
              "      <td>4153.0</td>\n",
              "      <td>3.232706e+06</td>\n",
              "      <td>5.421343e+06</td>\n",
              "      <td>1.000</td>\n",
              "      <td>10000.0</td>\n",
              "      <td>500000.0</td>\n",
              "      <td>5000000.0</td>\n",
              "      <td>19970000.00</td>\n",
              "    </tr>\n",
              "    <tr>\n",
              "      <th>Price</th>\n",
              "      <td>4153.0</td>\n",
              "      <td>5.653407e-01</td>\n",
              "      <td>8.926313e+00</td>\n",
              "      <td>0.000</td>\n",
              "      <td>0.0</td>\n",
              "      <td>0.0</td>\n",
              "      <td>0.0</td>\n",
              "      <td>399.99</td>\n",
              "    </tr>\n",
              "  </tbody>\n",
              "</table>\n",
              "</div>\n",
              "      <button class=\"colab-df-convert\" onclick=\"convertToInteractive('df-87ab2306-330e-4fa7-9412-65a9fec74f23')\"\n",
              "              title=\"Convert this dataframe to an interactive table.\"\n",
              "              style=\"display:none;\">\n",
              "        \n",
              "  <svg xmlns=\"http://www.w3.org/2000/svg\" height=\"24px\"viewBox=\"0 0 24 24\"\n",
              "       width=\"24px\">\n",
              "    <path d=\"M0 0h24v24H0V0z\" fill=\"none\"/>\n",
              "    <path d=\"M18.56 5.44l.94 2.06.94-2.06 2.06-.94-2.06-.94-.94-2.06-.94 2.06-2.06.94zm-11 1L8.5 8.5l.94-2.06 2.06-.94-2.06-.94L8.5 2.5l-.94 2.06-2.06.94zm10 10l.94 2.06.94-2.06 2.06-.94-2.06-.94-.94-2.06-.94 2.06-2.06.94z\"/><path d=\"M17.41 7.96l-1.37-1.37c-.4-.4-.92-.59-1.43-.59-.52 0-1.04.2-1.43.59L10.3 9.45l-7.72 7.72c-.78.78-.78 2.05 0 2.83L4 21.41c.39.39.9.59 1.41.59.51 0 1.02-.2 1.41-.59l7.78-7.78 2.81-2.81c.8-.78.8-2.07 0-2.86zM5.41 20L4 18.59l7.72-7.72 1.47 1.35L5.41 20z\"/>\n",
              "  </svg>\n",
              "      </button>\n",
              "      \n",
              "  <style>\n",
              "    .colab-df-container {\n",
              "      display:flex;\n",
              "      flex-wrap:wrap;\n",
              "      gap: 12px;\n",
              "    }\n",
              "\n",
              "    .colab-df-convert {\n",
              "      background-color: #E8F0FE;\n",
              "      border: none;\n",
              "      border-radius: 50%;\n",
              "      cursor: pointer;\n",
              "      display: none;\n",
              "      fill: #1967D2;\n",
              "      height: 32px;\n",
              "      padding: 0 0 0 0;\n",
              "      width: 32px;\n",
              "    }\n",
              "\n",
              "    .colab-df-convert:hover {\n",
              "      background-color: #E2EBFA;\n",
              "      box-shadow: 0px 1px 2px rgba(60, 64, 67, 0.3), 0px 1px 3px 1px rgba(60, 64, 67, 0.15);\n",
              "      fill: #174EA6;\n",
              "    }\n",
              "\n",
              "    [theme=dark] .colab-df-convert {\n",
              "      background-color: #3B4455;\n",
              "      fill: #D2E3FC;\n",
              "    }\n",
              "\n",
              "    [theme=dark] .colab-df-convert:hover {\n",
              "      background-color: #434B5C;\n",
              "      box-shadow: 0px 1px 3px 1px rgba(0, 0, 0, 0.15);\n",
              "      filter: drop-shadow(0px 1px 2px rgba(0, 0, 0, 0.3));\n",
              "      fill: #FFFFFF;\n",
              "    }\n",
              "  </style>\n",
              "\n",
              "      <script>\n",
              "        const buttonEl =\n",
              "          document.querySelector('#df-87ab2306-330e-4fa7-9412-65a9fec74f23 button.colab-df-convert');\n",
              "        buttonEl.style.display =\n",
              "          google.colab.kernel.accessAllowed ? 'block' : 'none';\n",
              "\n",
              "        async function convertToInteractive(key) {\n",
              "          const element = document.querySelector('#df-87ab2306-330e-4fa7-9412-65a9fec74f23');\n",
              "          const dataTable =\n",
              "            await google.colab.kernel.invokeFunction('convertToInteractive',\n",
              "                                                     [key], {});\n",
              "          if (!dataTable) return;\n",
              "\n",
              "          const docLinkHtml = 'Like what you see? Visit the ' +\n",
              "            '<a target=\"_blank\" href=https://colab.research.google.com/notebooks/data_table.ipynb>data table notebook</a>'\n",
              "            + ' to learn more about interactive tables.';\n",
              "          element.innerHTML = '';\n",
              "          dataTable['output_type'] = 'display_data';\n",
              "          await google.colab.output.renderOutput(dataTable, element);\n",
              "          const docLink = document.createElement('div');\n",
              "          docLink.innerHTML = docLinkHtml;\n",
              "          element.appendChild(docLink);\n",
              "        }\n",
              "      </script>\n",
              "    </div>\n",
              "  </div>\n",
              "  "
            ]
          },
          "metadata": {},
          "execution_count": 17
        }
      ]
    },
    {
      "cell_type": "code",
      "source": [
        "data.info()\n",
        "#Loks like Rating and Reviews have a few null values, both of which are floating point numbers"
      ],
      "metadata": {
        "colab": {
          "base_uri": "https://localhost:8080/"
        },
        "id": "ZxYz4vsLP6pd",
        "outputId": "63314a76-9d07-48e1-d4d6-2a3ecc4bc8bc"
      },
      "execution_count": 9,
      "outputs": [
        {
          "output_type": "stream",
          "name": "stdout",
          "text": [
            "<class 'pandas.core.frame.DataFrame'>\n",
            "RangeIndex: 4153 entries, 0 to 4152\n",
            "Data columns (total 12 columns):\n",
            " #   Column            Non-Null Count  Dtype  \n",
            "---  ------            --------------  -----  \n",
            " 0   App               4153 non-null   object \n",
            " 1   Category          4153 non-null   object \n",
            " 2   Rating            3976 non-null   float64\n",
            " 3   Reviews           4029 non-null   float64\n",
            " 4   Size              4153 non-null   float64\n",
            " 5   Installs          4153 non-null   float64\n",
            " 6   Paid/Free         4153 non-null   object \n",
            " 7   Price             4153 non-null   float64\n",
            " 8   Content Rating    4153 non-null   object \n",
            " 9   Ad Supported      4153 non-null   object \n",
            " 10  In App Purchases  4153 non-null   object \n",
            " 11  Editors Choice    4153 non-null   object \n",
            "dtypes: float64(5), object(7)\n",
            "memory usage: 389.5+ KB\n"
          ]
        }
      ]
    },
    {
      "cell_type": "code",
      "source": [
        "data[data['Rating'].isnull()==True]['Category'].value_counts(normalize=True)"
      ],
      "metadata": {
        "colab": {
          "base_uri": "https://localhost:8080/"
        },
        "id": "SVrkDX75QLop",
        "outputId": "91fdc4fb-d84a-4270-fbbc-712a4f005375"
      },
      "execution_count": 15,
      "outputs": [
        {
          "output_type": "execute_result",
          "data": {
            "text/plain": [
              "Others                 0.355932\n",
              "FAMILY                 0.152542\n",
              "GAME                   0.101695\n",
              "TOOLS                  0.079096\n",
              "MEDICAL                0.056497\n",
              "PRODUCTIVITY           0.056497\n",
              "FINANCE                0.039548\n",
              "PHOTOGRAPHY            0.028249\n",
              "BUSINESS               0.028249\n",
              "BOOKS_AND_REFERENCE    0.022599\n",
              "LIFESTYLE              0.022599\n",
              "COMMUNICATION          0.016949\n",
              "PERSONALIZATION        0.016949\n",
              "HEALTH_AND_FITNESS     0.016949\n",
              "SPORTS                 0.005650\n",
              "Name: Category, dtype: float64"
            ]
          },
          "metadata": {},
          "execution_count": 15
        }
      ]
    },
    {
      "cell_type": "code",
      "source": [
        "data['Category'].value_counts(normalize=True)"
      ],
      "metadata": {
        "colab": {
          "base_uri": "https://localhost:8080/"
        },
        "id": "TMhtRuLHVAJR",
        "outputId": "81e57487-9a32-4ce8-8257-21032535a078"
      },
      "execution_count": 27,
      "outputs": [
        {
          "output_type": "execute_result",
          "data": {
            "text/plain": [
              "Others                 0.310137\n",
              "FAMILY                 0.176258\n",
              "GAME                   0.110282\n",
              "TOOLS                  0.073200\n",
              "FINANCE                0.036600\n",
              "MEDICAL                0.036359\n",
              "HEALTH_AND_FITNESS     0.033470\n",
              "LIFESTYLE              0.033229\n",
              "SPORTS                 0.031303\n",
              "PRODUCTIVITY           0.030821\n",
              "PHOTOGRAPHY            0.028654\n",
              "BUSINESS               0.028172\n",
              "PERSONALIZATION        0.028172\n",
              "COMMUNICATION          0.022875\n",
              "BOOKS_AND_REFERENCE    0.020467\n",
              "Name: Category, dtype: float64"
            ]
          },
          "metadata": {},
          "execution_count": 27
        }
      ]
    },
    {
      "cell_type": "code",
      "source": [
        "data[data['Rating'].isnull()==True]['Editors Choice'].value_counts(normalize=True)"
      ],
      "metadata": {
        "colab": {
          "base_uri": "https://localhost:8080/"
        },
        "id": "RAv9CkiXKrqZ",
        "outputId": "c769a1c2-ccb6-428e-a8df-196c76cab0e5"
      },
      "execution_count": 19,
      "outputs": [
        {
          "output_type": "execute_result",
          "data": {
            "text/plain": [
              "No     0.774011\n",
              "Yes    0.225989\n",
              "Name: Editors Choice, dtype: float64"
            ]
          },
          "metadata": {},
          "execution_count": 19
        }
      ]
    },
    {
      "cell_type": "code",
      "source": [
        "data[data['Rating'].isnull()==True]['Content Rating'].value_counts(normalize=True)"
      ],
      "metadata": {
        "colab": {
          "base_uri": "https://localhost:8080/"
        },
        "id": "M23JKQ0tQzfa",
        "outputId": "4a678afe-7863-42ee-afb2-8fa8136ea498"
      },
      "execution_count": 20,
      "outputs": [
        {
          "output_type": "execute_result",
          "data": {
            "text/plain": [
              "Everyone        0.768362\n",
              "Teen            0.146893\n",
              "Everyone 10+    0.067797\n",
              "Mature 17+      0.016949\n",
              "Name: Content Rating, dtype: float64"
            ]
          },
          "metadata": {},
          "execution_count": 20
        }
      ]
    },
    {
      "cell_type": "code",
      "source": [
        "data['Content Rating'].value_counts(normalize=True)"
      ],
      "metadata": {
        "colab": {
          "base_uri": "https://localhost:8080/"
        },
        "id": "nPj35BF0RO3k",
        "outputId": "222f6080-7a54-4bfe-e9c5-f9e1fecce0f6"
      },
      "execution_count": 22,
      "outputs": [
        {
          "output_type": "execute_result",
          "data": {
            "text/plain": [
              "Everyone        0.782808\n",
              "Teen            0.130026\n",
              "Everyone 10+    0.055141\n",
              "Mature 17+      0.032025\n",
              "Name: Content Rating, dtype: float64"
            ]
          },
          "metadata": {},
          "execution_count": 22
        }
      ]
    },
    {
      "cell_type": "code",
      "source": [
        "data.loc[data['Rating'].isnull()==True,'Ad Supported'].value_counts()"
      ],
      "metadata": {
        "colab": {
          "base_uri": "https://localhost:8080/"
        },
        "id": "ShD8Mus3Ri1H",
        "outputId": "a728f77e-8ad9-4135-fdca-b4e721cca08b"
      },
      "execution_count": 30,
      "outputs": [
        {
          "output_type": "execute_result",
          "data": {
            "text/plain": [
              "Yes    99\n",
              "No     78\n",
              "Name: Ad Supported, dtype: int64"
            ]
          },
          "metadata": {},
          "execution_count": 30
        }
      ]
    },
    {
      "cell_type": "code",
      "source": [
        "data.loc[data['Rating'].isnull()==True,'In App Purchases'].value_counts()"
      ],
      "metadata": {
        "colab": {
          "base_uri": "https://localhost:8080/"
        },
        "id": "4Z9MpkaDSLL7",
        "outputId": "1ca896b5-51eb-4100-94bf-5c2bf616ce16"
      },
      "execution_count": 31,
      "outputs": [
        {
          "output_type": "execute_result",
          "data": {
            "text/plain": [
              "No     111\n",
              "Yes     66\n",
              "Name: In App Purchases, dtype: int64"
            ]
          },
          "metadata": {},
          "execution_count": 31
        }
      ]
    },
    {
      "cell_type": "code",
      "source": [
        "sns.histplot(data=data,x=',kde=True)"
      ],
      "metadata": {
        "colab": {
          "base_uri": "https://localhost:8080/",
          "height": 296
        },
        "id": "GEBqxR_KP-GE",
        "outputId": "88388a16-8799-4838-b4d4-9bfec2533c19"
      },
      "execution_count": 27,
      "outputs": [
        {
          "output_type": "execute_result",
          "data": {
            "text/plain": [
              "<matplotlib.axes._subplots.AxesSubplot at 0x7fa05532d8b0>"
            ]
          },
          "metadata": {},
          "execution_count": 27
        },
        {
          "output_type": "display_data",
          "data": {
            "text/plain": [
              "<Figure size 432x288 with 1 Axes>"
            ],
            "image/png": "[encoded data removed]"
          },
          "metadata": {
            "needs_background": "light"
          }
        }
      ]
    },
    {
      "cell_type": "code",
      "source": [
        "data['Category'].value_counts()"
      ],
      "metadata": {
        "colab": {
          "base_uri": "https://localhost:8080/"
        },
        "id": "nbQmSZ4RSCUA",
        "outputId": "6803b459-f1be-48ce-8458-c446525e1f10"
      },
      "execution_count": 35,
      "outputs": [
        {
          "output_type": "execute_result",
          "data": {
            "text/plain": [
              "Others                 1288\n",
              "FAMILY                  732\n",
              "GAME                    458\n",
              "TOOLS                   304\n",
              "FINANCE                 152\n",
              "MEDICAL                 151\n",
              "HEALTH_AND_FITNESS      139\n",
              "LIFESTYLE               138\n",
              "SPORTS                  130\n",
              "PRODUCTIVITY            128\n",
              "PHOTOGRAPHY             119\n",
              "BUSINESS                117\n",
              "PERSONALIZATION         117\n",
              "COMMUNICATION            95\n",
              "BOOKS_AND_REFERENCE      85\n",
              "Name: Category, dtype: int64"
            ]
          },
          "metadata": {},
          "execution_count": 35
        }
      ]
    },
    {
      "cell_type": "code",
      "source": [
        "data.groupby(['Content Rating', 'Category'])['Rating'].mean()"
      ],
      "metadata": {
        "colab": {
          "base_uri": "https://localhost:8080/"
        },
        "id": "5V973QyqSIhi",
        "outputId": "844694fa-da6c-4748-9b68-786b949f347b"
      },
      "execution_count": 46,
      "outputs": [
        {
          "output_type": "execute_result",
          "data": {
            "text/plain": [
              "Content Rating  Category           \n",
              "Everyone        BOOKS_AND_REFERENCE    4.390141\n",
              "                BUSINESS               4.179091\n",
              "                COMMUNICATION          3.989535\n",
              "                FAMILY                 4.200000\n",
              "                FINANCE                4.115385\n",
              "                GAME                   4.281356\n",
              "                HEALTH_AND_FITNESS     4.258678\n",
              "                LIFESTYLE              4.101653\n",
              "                MEDICAL                4.138971\n",
              "                Others                 4.204821\n",
              "                PERSONALIZATION        4.295050\n",
              "                PHOTOGRAPHY            4.074074\n",
              "                PRODUCTIVITY           4.134483\n",
              "                SPORTS                 4.232479\n",
              "                TOOLS                  3.994077\n",
              "Everyone 10+    BOOKS_AND_REFERENCE    4.450000\n",
              "                FAMILY                 4.200000\n",
              "                GAME                   4.337736\n",
              "                HEALTH_AND_FITNESS     4.300000\n",
              "                LIFESTYLE              1.800000\n",
              "                MEDICAL                4.350000\n",
              "                Others                 4.274038\n",
              "                PERSONALIZATION        4.500000\n",
              "                PRODUCTIVITY           3.600000\n",
              "                SPORTS                 4.200000\n",
              "Mature 17+      BOOKS_AND_REFERENCE    3.900000\n",
              "                COMMUNICATION          4.300000\n",
              "                FAMILY                 4.200000\n",
              "                GAME                   4.229167\n",
              "                HEALTH_AND_FITNESS     4.300000\n",
              "                LIFESTYLE              4.300000\n",
              "                Others                 4.016667\n",
              "                PERSONALIZATION        4.500000\n",
              "                PHOTOGRAPHY            4.300000\n",
              "                PRODUCTIVITY           4.600000\n",
              "                TOOLS                  3.700000\n",
              "Teen            BOOKS_AND_REFERENCE    4.185714\n",
              "                BUSINESS               3.850000\n",
              "                COMMUNICATION          4.133333\n",
              "                FAMILY                 4.157303\n",
              "                FINANCE                3.800000\n",
              "                GAME                   4.293701\n",
              "                HEALTH_AND_FITNESS     4.425000\n",
              "                LIFESTYLE              4.470000\n",
              "                MEDICAL                4.466667\n",
              "                Others                 4.286250\n",
              "                PERSONALIZATION        4.200000\n",
              "                PHOTOGRAPHY            4.040000\n",
              "                SPORTS                 4.187500\n",
              "                TOOLS                  4.200000\n",
              "Name: Rating, dtype: float64"
            ]
          },
          "metadata": {},
          "execution_count": 46
        }
      ]
    },
    {
      "cell_type": "code",
      "source": [
        "data.shape"
      ],
      "metadata": {
        "colab": {
          "base_uri": "https://localhost:8080/"
        },
        "id": "TV29L1tdgXeR",
        "outputId": "c160597e-79e7-4e75-8725-6f585de0d250"
      },
      "execution_count": 40,
      "outputs": [
        {
          "output_type": "execute_result",
          "data": {
            "text/plain": [
              "(4153, 12)"
            ]
          },
          "metadata": {},
          "execution_count": 40
        }
      ]
    },
    {
      "cell_type": "code",
      "source": [
        "# Defining the function for creating boxplot and hisogram \n",
        "def histogram_boxplot(data, feature, figsize=(12, 7), kde=False, bins=None):\n",
        "    \"\"\"\n",
        "    Boxplot and histogram combined\n",
        "\n",
        "    data: dataframe\n",
        "    feature: dataframe column\n",
        "    figsize: size of figure (default (12,7))\n",
        "    kde: whether to show the density curve (default False)\n",
        "    bins: number of bins for histogram (default None)\n",
        "    \"\"\"\n",
        "    f2, (ax_box2, ax_hist2) = plt.subplots(\n",
        "        nrows=2,  # Number of rows of the subplot grid= 2\n",
        "        sharex=True,  # x-axis will be shared among all subplots\n",
        "        gridspec_kw={\"height_ratios\": (0.25, 0.75)},\n",
        "        figsize=figsize)  # creating the 2 subplots\n",
        "    \n",
        "    sns.boxplot(data=data, x=feature, ax=ax_box2, showmeans=True, color=\"mediumturquoise\")  # boxplot will be created and a star will indicate the mean value of the column\n",
        "    \n",
        "    if bins:\n",
        "      sns.histplot(data=data, x=feature, kde=kde, ax=ax_hist2, bins=bins, color=\"mediumpurple\")\n",
        "    else: \n",
        "      sns.histplot(data=data, x=feature, kde=kde, ax=ax_hist2, color=\"mediumpurple\")  # For histogram\n",
        "    \n",
        "    ax_hist2.axvline(data[feature].mean(), color=\"green\", linestyle=\"--\")  # Add mean to the histogram\n",
        "    \n",
        "    ax_hist2.axvline(data[feature].median(), color=\"black\", linestyle=\"-\")  # Add median to the histogram"
      ],
      "metadata": {
        "id": "vhYRP9n0SLQC"
      },
      "execution_count": 37,
      "outputs": []
    },
    {
      "cell_type": "code",
      "source": [
        "histogram_boxplot(data,'Rating')"
      ],
      "metadata": {
        "colab": {
          "base_uri": "https://localhost:8080/",
          "height": 442
        },
        "id": "cxoq31bkTteu",
        "outputId": "fd91d71f-407a-4dd2-c826-3076ecc3ccda"
      },
      "execution_count": 47,
      "outputs": [
        {
          "output_type": "display_data",
          "data": {
            "text/plain": [
              "<Figure size 864x504 with 2 Axes>"
            ],
            "image/png": "[encoded data removed]"
          },
          "metadata": {
            "needs_background": "light"
          }
        }
      ]
    },
    {
      "cell_type": "code",
      "source": [
        "df=data.copy()"
      ],
      "metadata": {
        "id": "kgPXre6ZgOXe"
      },
      "execution_count": 48,
      "outputs": []
    },
    {
      "cell_type": "code",
      "source": [
        "#Imputing Nulls with mean in Rating\n",
        "df['Rating']=df.groupby(['Content Rating','Category'])['Rating'].transform(lambda x: x.fillna(x.mean()))"
      ],
      "metadata": {
        "id": "grQyqbjVhp6H"
      },
      "execution_count": 52,
      "outputs": []
    },
    {
      "cell_type": "code",
      "source": [
        "df['Reviews']=df.groupby(['Category','Content Rating'])['Reviews'].transform(lambda x: x.fillna(x.mean()))"
      ],
      "metadata": {
        "id": "OpytUjBChqlH"
      },
      "execution_count": 55,
      "outputs": []
    },
    {
      "cell_type": "code",
      "source": [
        "df.info()"
      ],
      "metadata": {
        "colab": {
          "base_uri": "https://localhost:8080/"
        },
        "id": "QEGvYRVUiGBV",
        "outputId": "9bfcdd25-cc4e-49ad-e145-d20e9cebf7ee"
      },
      "execution_count": 56,
      "outputs": [
        {
          "output_type": "stream",
          "name": "stdout",
          "text": [
            "<class 'pandas.core.frame.DataFrame'>\n",
            "RangeIndex: 4153 entries, 0 to 4152\n",
            "Data columns (total 12 columns):\n",
            " #   Column            Non-Null Count  Dtype  \n",
            "---  ------            --------------  -----  \n",
            " 0   App               4153 non-null   object \n",
            " 1   Category          4153 non-null   object \n",
            " 2   Rating            4153 non-null   float64\n",
            " 3   Reviews           4153 non-null   float64\n",
            " 4   Size              4153 non-null   float64\n",
            " 5   Installs          4153 non-null   float64\n",
            " 6   Paid/Free         4153 non-null   object \n",
            " 7   Price             4153 non-null   float64\n",
            " 8   Content Rating    4153 non-null   object \n",
            " 9   Ad Supported      4153 non-null   object \n",
            " 10  In App Purchases  4153 non-null   object \n",
            " 11  Editors Choice    4153 non-null   object \n",
            "dtypes: float64(5), object(7)\n",
            "memory usage: 389.5+ KB\n"
          ]
        }
      ]
    },
    {
      "cell_type": "code",
      "source": [],
      "metadata": {
        "id": "53nRaqyDimy1"
      },
      "execution_count": null,
      "outputs": []
    }
  ]
}